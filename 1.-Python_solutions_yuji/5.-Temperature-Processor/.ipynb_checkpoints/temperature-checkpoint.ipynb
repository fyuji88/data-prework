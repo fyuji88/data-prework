{
 "cells": [
  {
   "cell_type": "markdown",
   "metadata": {},
   "source": [
    "<img src=\"https://bit.ly/2VnXWr2\" width=\"100\" align=\"left\">"
   ]
  },
  {
   "cell_type": "markdown",
   "metadata": {},
   "source": [
    "# Temperature Sensor\n",
    "\n",
    "There is a temperature sensor in the processor of your company's server. The company wants to analyze the data provided by the sensor to decide if they should change the cooling system for a better one. As changing the cooling system is expensive and you are an excellent data analyst, you can't make a decision without basis.\n",
    "\n",
    "## Tools\n",
    "You don't necessarily need to use all the tools. Maybe you opt to use some of them or completely different ones, they are given to help you shape the exercise. Programming exercises can be solved in many different ways.\n",
    "1. Data structures: **lists**\n",
    "2. Loops: **list comprehension**\n",
    "3. Functions: **min, max, print, len**\n",
    "4. Conditional statements: **if-elif-else**\n",
    "\n",
    "## Tasks\n",
    "The temperatures measured throughout the 24 hours of a day are:"
   ]
  },
  {
   "cell_type": "code",
   "execution_count": 2,
   "metadata": {},
   "outputs": [],
   "source": [
    "temperatures_C = [33, 66, 65, 0, 59, 60, 62, 64, 70, 76, 80, 81, 80, 83, 90, 79, 61, 53, 50, 49, 53, 48, 45, 39]"
   ]
  },
  {
   "cell_type": "markdown",
   "metadata": {},
   "source": [
    "The first element of the list is the temperature at 12am, the second element is the temperature at 1am, and so on. \n",
    "\n",
    "The company has decided that if one of the following events occurs, then the cooling system needs to be replaced for a new one to avoid damaging the processor.\n",
    "* More than 4 temperatures are greater than or equal to 70ºC.\n",
    "* Any temperature is above 80ºC.\n",
    "* The average temperature exceeds 65ºC.\n",
    "\n",
    "Follow the steps so that you can make the decision.\n",
    "\n",
    "#### 1. Find the minimum temperature of the day and store it in a variable."
   ]
  },
  {
   "cell_type": "code",
   "execution_count": 4,
   "metadata": {},
   "outputs": [],
   "source": [
    "temp_min=min(temperatures_C)"
   ]
  },
  {
   "cell_type": "markdown",
   "metadata": {},
   "source": [
    "#### 2. Find the maximum temperature of the day and store it in a variable."
   ]
  },
  {
   "cell_type": "code",
   "execution_count": null,
   "metadata": {},
   "outputs": [],
   "source": [
    "temp_max=max(temperatures_C)"
   ]
  },
  {
   "cell_type": "markdown",
   "metadata": {},
   "source": [
    "#### 3. Create a list with the temperatures that are greater than or equal to 70ºC. Store it in a variable."
   ]
  },
  {
   "cell_type": "code",
   "execution_count": 6,
   "metadata": {},
   "outputs": [
    {
     "data": {
      "text/plain": [
       "[70, 76, 80, 81, 80, 83, 90, 79]"
      ]
     },
     "execution_count": 6,
     "metadata": {},
     "output_type": "execute_result"
    }
   ],
   "source": [
    "temp70up=[]\n",
    "\n",
    "for i in temperatures_C:\n",
    "    if i >=70:\n",
    "        temp70up.append(i)\n",
    "        \n",
    "temp70up"
   ]
  },
  {
   "cell_type": "markdown",
   "metadata": {},
   "source": [
    "#### 4. Find the average temperature of the day and store it in a variable."
   ]
  },
  {
   "cell_type": "code",
   "execution_count": 12,
   "metadata": {},
   "outputs": [],
   "source": [
    "from statistics import mean, stdev\n",
    "temp_avg=mean(temperatures_C)"
   ]
  },
  {
   "cell_type": "markdown",
   "metadata": {},
   "source": [
    "#### 5. Imagine that there was a sensor failure at 3am and the data for that specific hour was not recorded. How would you estimate the missing value? Replace the current value of the list at 3am for an estimation. "
   ]
  },
  {
   "cell_type": "code",
   "execution_count": 17,
   "metadata": {},
   "outputs": [
    {
     "data": {
      "text/plain": [
       "56.875"
      ]
     },
     "execution_count": 17,
     "metadata": {},
     "output_type": "execute_result"
    }
   ],
   "source": [
    "temperatures_C[3]=mean(temperatures_C[2:4])\n",
    "temperatures_C[3]"
   ]
  },
  {
   "cell_type": "markdown",
   "metadata": {},
   "source": [
    "#### 6. Bonus: the maintenance staff is from the United States and does not understand the international metric system. Help them by converting the temperatures from Celsius to Fahrenheit.\n",
    "To know more about temperature conversion check this [link](https://en.wikipedia.org/wiki/Conversion_of_units_of_temperature).\n",
    "\n",
    "**Formula**: \n",
    "\n",
    "$F = 1.8 * C + 32$"
   ]
  },
  {
   "cell_type": "code",
   "execution_count": 20,
   "metadata": {},
   "outputs": [],
   "source": [
    "temperatures_F=[]\n",
    "f=0\n",
    "\n",
    "for i in temperatures_C:\n",
    "    f=(i*1.8)+32\n",
    "    temperatures_F.append(f)"
   ]
  },
  {
   "cell_type": "markdown",
   "metadata": {},
   "source": [
    "#### 7. Make a decision!\n",
    "Now it's time to make a decision taking into account what you have seen until now. \n",
    "\n",
    "Remember that if one of the following events occurs, then the cooling system needs to be replaced for a new one to avoid damaging the processor.\n",
    "* More than 4 temperatures are greater than or equal to 70ºC.\n",
    "* Any temperature is above 80ºC.\n",
    "* The average temperature exceeds 65ºC.\n",
    "\n",
    "#### To make your decision, check if any of the three conditions above is met. You might need to use some of the variables you created in steps 1 to 6. Print a message to show if the cooling system needs to be changed or not."
   ]
  },
  {
   "cell_type": "code",
   "execution_count": 40,
   "metadata": {},
   "outputs": [
    {
     "name": "stdout",
     "output_type": "stream",
     "text": [
      "WARNING: COOLING SYSTEM DUE TO: 4 70ºC HEAT SPIKES WITHIN A DAY\n"
     ]
    }
   ],
   "source": [
    "temp70up=0\n",
    "hora=0\n",
    "\n",
    "for i in temperatures_C:\n",
    "    hora+=1\n",
    "    if i>70:\n",
    "        temp70up+=1\n",
    "        if temp70up==4:\n",
    "            print(\"WARNING: COOLING SYSTEM NEEDS TO BE REPLACED DUE TO: 4 70ºC HEAT SPIKES WITHIN A DAY\")\n",
    "            break\n",
    "    elif i>80:\n",
    "        print(\"WARNING: COOLING SYSTEM NEEDS TO BE REPLACED DUE TO: 80ºC HEAT SPIKES WITHIN A DAY\")\n",
    "        break\n",
    "    elif mean(temperatures_C)>65:\n",
    "        print(\"WARNING: COOLING SYSTEM NEEDS TO BE REPLACED DUE TO: AVERAGE DAILY TEMPERATURE HIGHER THAN 65ºC\")\n",
    "        break\n",
    "    elif hora>23:\n",
    "        print(\"COOLING SYSTEM OK\")\n",
    "            \n",
    "        "
   ]
  },
  {
   "cell_type": "markdown",
   "metadata": {},
   "source": [
    "## Bonus\n",
    "\n",
    "The company has decided that the decision you made is not valid. They want you to analyze the data again but this time, the conditions that need to be met in order to change the cooling system are different.\n",
    "\n",
    "This time, if one of the following events occurs, then the cooling system needs to be replaced:\n",
    "* The temperature is greater than 70ºC during more than 4 consecutive hours.\n",
    "* Any temperature is above 80ºC.\n",
    "* The average temperature exceeds 65ºC.\n",
    "\n",
    "Follow the steps so that you can make the decision.\n",
    "\n",
    "#### 1. Create a list with the hours where the temperature is greater than 70ºC. Store it in a variable."
   ]
  },
  {
   "cell_type": "code",
   "execution_count": 42,
   "metadata": {},
   "outputs": [
    {
     "data": {
      "text/plain": [
       "[9, 10, 11, 12, 13, 14, 15]"
      ]
     },
     "execution_count": 42,
     "metadata": {},
     "output_type": "execute_result"
    }
   ],
   "source": [
    "temp70up=[]\n",
    "hora=0\n",
    "\n",
    "for i in temperatures_C:\n",
    "    if i>70:\n",
    "        temp70up.append(hora)\n",
    "    hora+=1\n",
    "temp70up"
   ]
  },
  {
   "cell_type": "markdown",
   "metadata": {},
   "source": [
    "#### 2. Check if the list you created in step 1 has more than 4 consecutive hours. "
   ]
  },
  {
   "cell_type": "code",
   "execution_count": 43,
   "metadata": {},
   "outputs": [
    {
     "name": "stdout",
     "output_type": "stream",
     "text": [
      "WARNING: COOLING SYSTEM DUE TO: 4 consecutive 70ºC HEAT SPIKES WITHIN A DAY\n"
     ]
    }
   ],
   "source": [
    "hour_gap=[]\n",
    "length=len(temp70up)\n",
    "i=0\n",
    "consec=0\n",
    "\n",
    "while i<(length-1):\n",
    "    if consec==5:\n",
    "        print(\"WARNING: COOLING SYSTEM NEEDS TO BE REPLACED DUE TO: 5 consecutive 70ºC HEAT SPIKES WITHIN A DAY\")\n",
    "    if (temp70up[i+1]-temp70up[i])==1:\n",
    "        consec+=1\n",
    "        i+=1\n",
    "    else:\n",
    "        consec=0\n",
    "        i+=1\n",
    "    "
   ]
  },
  {
   "cell_type": "markdown",
   "metadata": {},
   "source": [
    "#### 3. Make the decision!\n",
    "To make your decision, check if any of the three conditions is met. Print a message to show if the cooling system needs to be changed or not."
   ]
  },
  {
   "cell_type": "code",
   "execution_count": 49,
   "metadata": {},
   "outputs": [
    {
     "name": "stdout",
     "output_type": "stream",
     "text": [
      "hour: 1 temperature: 33\n",
      "hour: 2 temperature: 66\n",
      "hour: 3 temperature: 65\n",
      "hour: 4 temperature: 56.875\n",
      "hour: 5 temperature: 59\n",
      "hour: 6 temperature: 60\n",
      "hour: 7 temperature: 62\n",
      "hour: 8 temperature: 64\n",
      "hour: 9 temperature: 70\n",
      "hour: 10 temperature: 76\n",
      "hour: 11 temperature: 80\n",
      "hour: 12 temperature: 81\n",
      "hour: 13 temperature: 80\n",
      "hour: 14 temperature: 83\n",
      "WARNING: COOLING SYSTEM NEEDS TO BE REPLACED DUE TO: 4 consecutive 70ºC HEAT SPIKES WITHIN A DAY\n"
     ]
    }
   ],
   "source": [
    "temp70up=0\n",
    "hora=0\n",
    "consec=0\n",
    "\n",
    "for i in temperatures_C:\n",
    "    hora+=1\n",
    "    if i>70:\n",
    "        consec+=1\n",
    "        if consec==5:\n",
    "            print(\"hour: \" + str(hora) + \" temperature: \" + str(i))\n",
    "            print(\"WARNING: COOLING SYSTEM NEEDS TO BE REPLACED DUE TO: 5 consecutive 70ºC HEAT SPIKES WITHIN A DAY\")\n",
    "            break\n",
    "        print(\"hour: \" + str(hora) + \" temperature: \" + str(i))\n",
    "        pass\n",
    "    elif i>80:\n",
    "        print(\"hour: \" + str(hora) + \" temperature: \" + str(i))\n",
    "        print(\"WARNING: COOLING SYSTEM NEEDS TO BE REPLACED DUE TO: 80ºC HEAT SPIKES WITHIN A DAY\")\n",
    "        break\n",
    "    elif mean(temperatures_C)>65:\n",
    "        print(\"hour: \" + str(hora) + \" temperature: \" + str(i))\n",
    "        print(\"WARNING: COOLING SYSTEM NEEDS TO BE REPLACED DUE TO: AVERAGE DAILY TEMPERATURE HIGHER THAN 65ºC\")\n",
    "        break\n",
    "    elif hora>23:\n",
    "        print(\"hour: \" + str(hora) + \" temperature: \" + str(i))\n",
    "        print(\"COOLING SYSTEM OK\")\n",
    "    else:\n",
    "        print(\"hour: \" + str(hora) + \" temperature: \" + str(i))\n",
    "        consec=0\n",
    "            "
   ]
  },
  {
   "cell_type": "markdown",
   "metadata": {},
   "source": [
    "#### 4. Find the average value of the temperature lists (ºC and ºF). What is the relation between both average values?"
   ]
  },
  {
   "cell_type": "code",
   "execution_count": 64,
   "metadata": {},
   "outputs": [
    {
     "name": "stdout",
     "output_type": "stream",
     "text": [
      "62.619791666666664\n",
      "144.71562500000002\n",
      "The relation between the average values is exactly the conversion formula from C to F: C*1-8+32\n"
     ]
    }
   ],
   "source": [
    "print(mean(temperatures_C))\n",
    "print(mean(temperatures_F))\n",
    "print(\"The relation between the average values is exactly the conversion formula from C to F: C*1.8+32\")"
   ]
  },
  {
   "cell_type": "markdown",
   "metadata": {},
   "source": [
    "#### 5. Find the standard deviation of the temperature lists (ºC and ºF). What is the relation between both standard deviations?"
   ]
  },
  {
   "cell_type": "code",
   "execution_count": 66,
   "metadata": {},
   "outputs": [
    {
     "name": "stdout",
     "output_type": "stream",
     "text": [
      "14.997168173211223\n",
      "26.994902711780206\n",
      "The relation between the standard deviations is just the multiplication part of the conversion formula: C*1.8\n"
     ]
    }
   ],
   "source": [
    "print(stdev(temperatures_C))\n",
    "print(stdev(temperatures_F))\n",
    "print(\"The relation between the standard deviations is just the multiplication part of the conversion formula: C*1.8\")"
   ]
  }
 ],
 "metadata": {
  "kernelspec": {
   "display_name": "Python 3",
   "language": "python",
   "name": "python3"
  },
  "language_info": {
   "codemirror_mode": {
    "name": "ipython",
    "version": 3
   },
   "file_extension": ".py",
   "mimetype": "text/x-python",
   "name": "python",
   "nbconvert_exporter": "python",
   "pygments_lexer": "ipython3",
   "version": "3.7.6"
  }
 },
 "nbformat": 4,
 "nbformat_minor": 2
}
