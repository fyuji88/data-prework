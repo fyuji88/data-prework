{
 "cells": [
  {
   "cell_type": "markdown",
   "metadata": {},
   "source": [
    "<img src=\"https://bit.ly/2VnXWr2\" width=\"100\" align=\"left\">"
   ]
  },
  {
   "cell_type": "markdown",
   "metadata": {},
   "source": [
    "# Rock, Paper & Scissors\n",
    "\n",
    "Let's play the famous game against our computer. You can check the rules [here](https://en.wikipedia.org/wiki/Rock%E2%80%93paper%E2%80%93scissors). \n",
    "\n",
    "## Task\n",
    "Create a program that imitates the playability of the well known game of rock, paper, scissors. Follow the guidelines provided.\n",
    "\n",
    "## Tools\n",
    "1. Loop: **for/while**\n",
    "2. Functions: **input(), print()...**\n",
    "3. Conditional statements: **if, elif, else**\n",
    "4. Definition of functions. Modular programming\n",
    "5. Import modules\n",
    "\n",
    "**To solve this challenge, the use of functions is recommended.**\n",
    "\n",
    "#### 1. Import the choice function of the random module."
   ]
  },
  {
   "cell_type": "code",
   "execution_count": 8,
   "metadata": {},
   "outputs": [],
   "source": [
    "from random import choice"
   ]
  },
  {
   "cell_type": "markdown",
   "metadata": {},
   "source": [
    "#### 2. Create a list that includes the 3 possible gesture options of the game: 'rock', 'paper' or 'scissors'. Store the list in a variable called `gestures`."
   ]
  },
  {
   "cell_type": "code",
   "execution_count": 9,
   "metadata": {},
   "outputs": [],
   "source": [
    "gestures=[\"rock\",\"paper\",\"scissors\"]"
   ]
  },
  {
   "cell_type": "markdown",
   "metadata": {},
   "source": [
    "#### 3. Create a variable called `n_rounds` to store the maximum number of rounds to play in a game. \n",
    "Remember that the number of rounds must be odd: 1, 3, 5, ..."
   ]
  },
  {
   "cell_type": "code",
   "execution_count": 10,
   "metadata": {},
   "outputs": [],
   "source": [
    "nrounds=5"
   ]
  },
  {
   "cell_type": "markdown",
   "metadata": {},
   "source": [
    "#### 4. Create a variable called `rounds_to_win` to store the number of rounds that a player must win to win the game.\n",
    "**Hint**: the value stored in `rounds_to_win` depends on the value of `n_rounds`. "
   ]
  },
  {
   "cell_type": "code",
   "execution_count": 11,
   "metadata": {},
   "outputs": [
    {
     "name": "stdout",
     "output_type": "stream",
     "text": [
      "3\n"
     ]
    }
   ],
   "source": [
    "rounds_to_win=round(nrounds/2)+1\n",
    "print(rounds_to_win)"
   ]
  },
  {
   "cell_type": "markdown",
   "metadata": {},
   "source": [
    "#### 5. Create two variables to store the number of rounds that the computer and the player have won. Call these variables `cpu_score` and `player_score`."
   ]
  },
  {
   "cell_type": "code",
   "execution_count": 12,
   "metadata": {},
   "outputs": [],
   "source": [
    "cpu_score=0\n",
    "player_score=0"
   ]
  },
  {
   "cell_type": "markdown",
   "metadata": {},
   "source": [
    "#### 6. Define a function that randomly returns one of the 3 gesture options.\n",
    "You will use this function to simulate the gesture choice of the computer. "
   ]
  },
  {
   "cell_type": "code",
   "execution_count": 13,
   "metadata": {},
   "outputs": [],
   "source": [
    "def jankenpo_machine():\n",
    "    return choice(gestures)"
   ]
  },
  {
   "cell_type": "code",
   "execution_count": 17,
   "metadata": {},
   "outputs": [
    {
     "data": {
      "text/plain": [
       "'paper'"
      ]
     },
     "execution_count": 17,
     "metadata": {},
     "output_type": "execute_result"
    }
   ],
   "source": [
    "jankenpo_machine()"
   ]
  },
  {
   "cell_type": "markdown",
   "metadata": {},
   "source": [
    "#### 7. Define a function that asks the player which is the gesture he or she wants to show: 'rock', 'paper' or 'scissors'.\n",
    "The player should only be allowed to choose one of the 3 gesture options. If the player's choice is not rock, paper or scissors, keep asking until it is."
   ]
  },
  {
   "cell_type": "code",
   "execution_count": 18,
   "metadata": {},
   "outputs": [],
   "source": [
    "def jankenpo_human():\n",
    "    z=input(\"Choose rock, paper or scissors \")\n",
    "    while True:\n",
    "        if z in gestures:\n",
    "            break\n",
    "        else:\n",
    "            z=input(\"Input Invalid: Please choose rock, paper or scissors \")\n",
    "    return z"
   ]
  },
  {
   "cell_type": "raw",
   "metadata": {},
   "source": [
    "#### 8. Define a function that checks who won a round. \n",
    "The function should return 0 if there is a tie, 1 if the computer wins and 2 if the player wins."
   ]
  },
  {
   "cell_type": "code",
   "execution_count": 24,
   "metadata": {},
   "outputs": [],
   "source": [
    "def janken_results(human,machine):\n",
    "    \n",
    "    if machine==\"paper\" and human==\"rock\":\n",
    "        print(\"Player chose: \" + str(human))\n",
    "        print(\"Machine chose: \" + str(machine))\n",
    "        return 1\n",
    "    if machine==\"rock\" and human==\"scissors\":\n",
    "        print(\"Player chose: \" + str(human))\n",
    "        print(\"Machine chose: \" + str(machine))\n",
    "        return 1\n",
    "    if machine==\"scissors\" and human==\"paper\":\n",
    "        print(\"Player chose: \" + str(human))\n",
    "        print(\"Machine chose: \" + str(machine))\n",
    "        return 1\n",
    "    if machine==\"paper\" and human==\"scissors\":\n",
    "        print(\"Player chose: \" + str(human))\n",
    "        print(\"Machine chose: \" + str(machine))\n",
    "        return 2\n",
    "    if machine==\"scissors\" and human==\"rock\":\n",
    "        print(\"Player chose: \" + str(human))\n",
    "        print(\"Machine chose: \" + str(machine))\n",
    "        return 2\n",
    "    if machine==\"rock\" and human==\"paper\":\n",
    "        print(\"Player chose: \" + str(human))\n",
    "        print(\"Machine chose: \" + str(machine))\n",
    "        return 2\n",
    "    if machine==\"scissors\" and human==\"scissors\":\n",
    "        print(\"Player chose: \" + str(human))\n",
    "        print(\"Machine chose: \" + str(machine))\n",
    "        return 0\n",
    "    if machine==\"rock\" and human==\"rock\":\n",
    "        print(\"Player chose: \" + str(human))\n",
    "        print(\"Machine chose: \" + str(machine))\n",
    "        return 0\n",
    "    if machine==\"paper\" and human==\"paper\":\n",
    "        print(\"Player chose: \" + str(human))\n",
    "        print(\"Machine chose: \" + str(machine))\n",
    "        return 0"
   ]
  },
  {
   "cell_type": "code",
   "execution_count": 25,
   "metadata": {},
   "outputs": [
    {
     "name": "stdout",
     "output_type": "stream",
     "text": [
      "Choose rock, paper or scissors mauro\n",
      "Input Invalid: Please choose rock, paper or scissors rock\n",
      "Player chose: rock\n",
      "Machine chose: scissors\n"
     ]
    },
    {
     "data": {
      "text/plain": [
       "2"
      ]
     },
     "execution_count": 25,
     "metadata": {},
     "output_type": "execute_result"
    }
   ],
   "source": [
    "janken_results(jankenpo_human(),jankenpo_machine())"
   ]
  },
  {
   "cell_type": "markdown",
   "metadata": {},
   "source": [
    "#### 9. Define a function that prints the choice of the computer, the choice of the player and a message that announces who won the current round. \n",
    "You should also use this function to update the variables that count the number of rounds that the computer and the player have won. The score of the winner increases by one point. If there is a tie, the score does not increase."
   ]
  },
  {
   "cell_type": "code",
   "execution_count": 26,
   "metadata": {},
   "outputs": [],
   "source": [
    "computer_score=0\n",
    "human_score=0\n",
    "\n",
    "def janken_resultsv2(human,machine):\n",
    "\n",
    "    if machine==\"paper\" and human==\"rock\":\n",
    "        print(\"Player chose: \" + str(human))\n",
    "        print(\"Machine chose: \" + str(machine))\n",
    "        print(\"MACHINE WON ROUND\")\n",
    "        return 1\n",
    "    if machine==\"rock\" and human==\"scissors\":\n",
    "        print(\"Player chose: \" + str(human))\n",
    "        print(\"Machine chose: \" + str(machine))\n",
    "        print(\"MACHINE WON ROUND\")\n",
    "        return 1\n",
    "    if machine==\"scissors\" and human==\"paper\":\n",
    "        print(\"Player chose: \" + str(human))\n",
    "        print(\"Machine chose: \" + str(machine))\n",
    "        print(\"MACHINE WON ROUND\")\n",
    "        return 1\n",
    "    if machine==\"paper\" and human==\"scissors\":\n",
    "        print(\"Player chose: \" + str(human))\n",
    "        print(\"Machine chose: \" + str(machine))\n",
    "        print(\"PLAYER WON ROUND\")\n",
    "        return 2\n",
    "    if machine==\"scissors\" and human==\"rock\":\n",
    "        print(\"Player chose: \" + str(human))\n",
    "        print(\"Machine chose: \" + str(machine))\n",
    "        print(\"PLAYER WON ROUND\")\n",
    "        return 2\n",
    "    if machine==\"rock\" and human==\"paper\":\n",
    "        print(\"Player chose: \" + str(human))\n",
    "        print(\"Machine chose: \" + str(machine))\n",
    "        print(\"PLAYER WON ROUND\")\n",
    "        return 2\n",
    "    if machine==\"scissors\" and human==\"scissors\":\n",
    "        print(\"Player chose: \" + str(human))\n",
    "        print(\"Machine chose: \" + str(machine))\n",
    "        print(\"TIE\")\n",
    "        return 0\n",
    "    if machine==\"rock\" and human==\"rock\":\n",
    "        print(\"Player chose: \" + str(human))\n",
    "        print(\"Machine chose: \" + str(machine))\n",
    "        print(\"TIE\")\n",
    "        return 0\n",
    "    if machine==\"paper\" and human==\"paper\":\n",
    "        print(\"Player chose: \" + str(human))\n",
    "        print(\"Machine chose: \" + str(machine))\n",
    "        print(\"TIE\")\n",
    "        return 0"
   ]
  },
  {
   "cell_type": "code",
   "execution_count": 25,
   "metadata": {
    "scrolled": true
   },
   "outputs": [
    {
     "name": "stdout",
     "output_type": "stream",
     "text": [
      "Choose rock, paper or scissors rock\n",
      "Player chose: rock\n",
      "Machine chose: paper\n",
      "MACHINE WON ROUND\n",
      "1\n"
     ]
    }
   ],
   "source": [
    "x=janken_resultsv2(jankenpo_human(),jankenpo_machine())\n",
    "print(x)"
   ]
  },
  {
   "cell_type": "markdown",
   "metadata": {},
   "source": [
    "#### 10. Now it's time to code the execution of the game using the functions and variables you defined above. \n",
    "\n",
    "First, create a loop structure that repeats while no player reaches the minimum score necessary to win and the number of rounds is less than the maximum number of rounds to play in a game.  \n",
    "\n",
    "Inside the loop, use the functions and variables above to create the execution of a round: ask for the player's choice, generate the random choice of the computer, show the round results, update the scores, etc. "
   ]
  },
  {
   "cell_type": "code",
   "execution_count": 27,
   "metadata": {},
   "outputs": [
    {
     "name": "stdout",
     "output_type": "stream",
     "text": [
      "Choose rock, paper or scissors paper\n",
      "Player chose: paper\n",
      "Machine chose: scissors\n",
      "MACHINE WON ROUND\n",
      "Current Score : Computer: 1 Player: 0\n",
      "Choose rock, paper or scissors paper\n",
      "Player chose: paper\n",
      "Machine chose: paper\n",
      "TIE\n",
      "Current Score : Computer: 1 Player: 0\n",
      "Choose rock, paper or scissors paper\n",
      "Player chose: paper\n",
      "Machine chose: paper\n",
      "TIE\n",
      "Current Score : Computer: 1 Player: 0\n",
      "Choose rock, paper or scissors paper\n",
      "Player chose: paper\n",
      "Machine chose: scissors\n",
      "MACHINE WON ROUND\n",
      "Current Score : Computer: 2 Player: 0\n",
      "Choose rock, paper or scissors paper\n",
      "Player chose: paper\n",
      "Machine chose: paper\n",
      "TIE\n",
      "Current Score : Computer: 2 Player: 0\n",
      "Choose rock, paper or scissors paper\n",
      "Player chose: paper\n",
      "Machine chose: rock\n",
      "PLAYER WON ROUND\n",
      "Current Score : Computer: 2 Player: 1\n",
      "Choose rock, paper or scissors paper\n",
      "Player chose: paper\n",
      "Machine chose: rock\n",
      "PLAYER WON ROUND\n",
      "Current Score : Computer: 2 Player: 2\n",
      "Choose rock, paper or scissors paper\n",
      "Player chose: paper\n",
      "Machine chose: paper\n",
      "TIE\n",
      "Current Score : Computer: 2 Player: 2\n",
      "Choose rock, paper or scissors paper\n",
      "Player chose: paper\n",
      "Machine chose: paper\n",
      "TIE\n",
      "Current Score : Computer: 2 Player: 2\n",
      "Choose rock, paper or scissors paper\n",
      "Player chose: paper\n",
      "Machine chose: paper\n",
      "TIE\n",
      "Current Score : Computer: 2 Player: 2\n",
      "Choose rock, paper or scissors rock\n",
      "Player chose: rock\n",
      "Machine chose: rock\n",
      "TIE\n",
      "Current Score : Computer: 2 Player: 2\n",
      "Choose rock, paper or scissors paper\n",
      "Player chose: paper\n",
      "Machine chose: rock\n",
      "PLAYER WON ROUND\n",
      "Current Score : Computer: 2 Player: 3\n",
      "PLAYER WON GAME\n",
      "Final Score : Computer: 2 Player: 3\n"
     ]
    }
   ],
   "source": [
    "computer_score=0\n",
    "human_score=0\n",
    "turn=0\n",
    "\n",
    "while True:\n",
    "    x=janken_resultsv2(jankenpo_human(),jankenpo_machine())\n",
    "    if x==2:\n",
    "        human_score+=1\n",
    "        turn+=1\n",
    "        print(\"Current Score : \" + \"Computer: \" + str(computer_score) + \" Player: \" + str(human_score))\n",
    "    if x==1:\n",
    "        computer_score+=1\n",
    "        turn+=1\n",
    "        print(\"Current Score : \" + \"Computer: \" + str(computer_score) + \" Player: \" + str(human_score))\n",
    "    if x==0:\n",
    "        turn+=1\n",
    "        print(\"Current Score : \" + \"Computer: \" + str(computer_score) + \" Player: \" + str(human_score))\n",
    "    if computer_score==rounds_to_win:\n",
    "        print(\"MACHINE WON GAME\")\n",
    "        print(\"Final Score : \" + \"Computer: \" + str(computer_score) + \" Player: \" + str(human_score))\n",
    "        break\n",
    "    elif human_score==rounds_to_win:\n",
    "        print(\"PLAYER WON GAME\")\n",
    "        print(\"Final Score : \" + \"Computer: \" + str(computer_score) + \" Player: \" + str(human_score))\n",
    "        break\n"
   ]
  },
  {
   "cell_type": "markdown",
   "metadata": {},
   "source": [
    "#### 11. Print the winner of the game based on who won more rounds.\n",
    "Remember that the game might be tied. "
   ]
  },
  {
   "cell_type": "code",
   "execution_count": 27,
   "metadata": {},
   "outputs": [
    {
     "name": "stdout",
     "output_type": "stream",
     "text": [
      "PLAYER WON GAME\n",
      "Final Score : Computer: 0 Player: 3\n"
     ]
    }
   ],
   "source": [
    "if computer_score==rounds_to_win:\n",
    "        print(\"MACHINE WON GAME\")\n",
    "        print(\"Final Score : \" + \"Computer: \" + str(computer_score) + \" Player: \" + str(human_score))\n",
    "        \n",
    "elif human_score==rounds_to_win:\n",
    "        print(\"PLAYER WON GAME\")\n",
    "        print(\"Final Score : \" + \"Computer: \" + str(computer_score) + \" Player: \" + str(human_score))\n",
    "        "
   ]
  },
  {
   "cell_type": "markdown",
   "metadata": {},
   "source": [
    "# Bonus: Rock, Paper, Scissors, Lizard & Spock\n",
    "![](images/rpsls.jpg)\n",
    "\n",
    "In this challenge, you need to improve the previous game by adding two new options. To know more about the rules of the improved version of rock, paper, scissors, check this [link](http://www.samkass.com/theories/RPSSL.html). \n",
    "\n",
    "In addition, you will also need to improve how the game interacts with the player: the number of rounds to play, which must be an odd number, will be requested to the user until a valid number is entered. Define a new function to make that request.\n",
    "\n",
    "**Hint**: Try to reuse the code that you already coded in the previous challenge. If your code is efficient, this bonus will only consist of simple modifications to the original game."
   ]
  },
  {
   "cell_type": "code",
   "execution_count": 1,
   "metadata": {},
   "outputs": [],
   "source": [
    "bonus_gestures=[\"rock\",\"paper\",\"scissors\",\"spock\",\"lizard\"]\n",
    "bonus_rounds=0\n",
    "def jankenpo_machine_bonus():\n",
    "    return choice(bonus_gestures)\n",
    "def jankenpo_human_bonus():\n",
    "    z=input(\"Choose rock, paper, scissors, lizard or spock \")\n",
    "    while True:\n",
    "        if z in bonus_gestures:\n",
    "            break\n",
    "        else:\n",
    "            z=input(\"Input Invalid: Please choose rock, paper or scissors \")\n",
    "    return z"
   ]
  },
  {
   "cell_type": "code",
   "execution_count": 2,
   "metadata": {},
   "outputs": [],
   "source": [
    "computer_score=0\n",
    "human_score=0\n",
    "\n",
    "def janken_resultsv3(human,machine):\n",
    "\n",
    "    if machine==\"paper\" and human==\"rock\":\n",
    "        print(\"Player chose: \" + str(human))\n",
    "        print(\"Machine chose: \" + str(machine))\n",
    "        print(\"MACHINE WON ROUND\")\n",
    "        return 1\n",
    "    if machine==\"paper\" and human==\"spock\":\n",
    "        print(\"Player chose: \" + str(human))\n",
    "        print(\"Machine chose: \" + str(machine))\n",
    "        print(\"MACHINE WON ROUND\")\n",
    "        return 1\n",
    "    if machine==\"rock\" and human==\"scissors\":\n",
    "        print(\"Player chose: \" + str(human))\n",
    "        print(\"Machine chose: \" + str(machine))\n",
    "        print(\"MACHINE WON ROUND\")\n",
    "        return 1\n",
    "    if machine==\"rock\" and human==\"lizard\":\n",
    "        print(\"Player chose: \" + str(human))\n",
    "        print(\"Machine chose: \" + str(machine))\n",
    "        print(\"MACHINE WON ROUND\")\n",
    "        return 1\n",
    "    if machine==\"scissors\" and human==\"paper\":\n",
    "        print(\"Player chose: \" + str(human))\n",
    "        print(\"Machine chose: \" + str(machine))\n",
    "        print(\"MACHINE WON ROUND\")\n",
    "        return 1\n",
    "    if machine==\"scissors\" and human==\"lizard\":\n",
    "        print(\"Player chose: \" + str(human))\n",
    "        print(\"Machine chose: \" + str(machine))\n",
    "        print(\"MACHINE WON ROUND\")\n",
    "        return 1\n",
    "    if machine==\"spock\" and human==\"scissors\":\n",
    "        print(\"Player chose: \" + str(human))\n",
    "        print(\"Machine chose: \" + str(machine))\n",
    "        print(\"MACHINE WON ROUND\")\n",
    "        return 1\n",
    "    if machine==\"spock\" and human==\"rock\":\n",
    "        print(\"Player chose: \" + str(human))\n",
    "        print(\"Machine chose: \" + str(machine))\n",
    "        print(\"MACHINE WON ROUND\")\n",
    "        return 1\n",
    "    if machine==\"lizard\" and human==\"spock\":\n",
    "        print(\"Player chose: \" + str(human))\n",
    "        print(\"Machine chose: \" + str(machine))\n",
    "        print(\"MACHINE WON ROUND\")\n",
    "        return 1  \n",
    "    if machine==\"lizard\" and human==\"paper\":\n",
    "        print(\"Player chose: \" + str(human))\n",
    "        print(\"Machine chose: \" + str(machine))\n",
    "        print(\"MACHINE WON ROUND\")\n",
    "        return 1  \n",
    "    if machine==\"paper\" and human==\"scissors\":\n",
    "        print(\"Player chose: \" + str(human))\n",
    "        print(\"Machine chose: \" + str(machine))\n",
    "        print(\"PLAYER WON ROUND\")\n",
    "        return 2\n",
    "    if machine==\"paper\" and human==\"spock\":\n",
    "        print(\"Player chose: \" + str(human))\n",
    "        print(\"Machine chose: \" + str(machine))\n",
    "        print(\"PLAYER WON ROUND\")\n",
    "        return 2\n",
    "    if machine==\"scissors\" and human==\"rock\":\n",
    "        print(\"Player chose: \" + str(human))\n",
    "        print(\"Machine chose: \" + str(machine))\n",
    "        print(\"PLAYER WON ROUND\")\n",
    "        return 2\n",
    "    if machine==\"scissors\" and human==\"lizard\":\n",
    "        print(\"Player chose: \" + str(human))\n",
    "        print(\"Machine chose: \" + str(machine))\n",
    "        print(\"PLAYER WON ROUND\")\n",
    "        return 2\n",
    "    if machine==\"rock\" and human==\"paper\":\n",
    "        print(\"Player chose: \" + str(human))\n",
    "        print(\"Machine chose: \" + str(machine))\n",
    "        print(\"PLAYER WON ROUND\")\n",
    "        return 2\n",
    "    if machine==\"rock\" and human==\"lizard\":\n",
    "        print(\"Player chose: \" + str(human))\n",
    "        print(\"Machine chose: \" + str(machine))\n",
    "        print(\"PLAYER WON ROUND\")\n",
    "        return 2\n",
    "    if machine==\"scissors\" and human==\"scissors\":\n",
    "        print(\"Player chose: \" + str(human))\n",
    "        print(\"Machine chose: \" + str(machine))\n",
    "        print(\"TIE\")\n",
    "        return 0\n",
    "    if machine==\"rock\" and human==\"rock\":\n",
    "        print(\"Player chose: \" + str(human))\n",
    "        print(\"Machine chose: \" + str(machine))\n",
    "        print(\"TIE\")\n",
    "        return 0\n",
    "    if machine==\"paper\" and human==\"paper\":\n",
    "        print(\"Player chose: \" + str(human))\n",
    "        print(\"Machine chose: \" + str(machine))\n",
    "        print(\"TIE\")\n",
    "        return 0\n",
    "    if machine==\"spock\" and human==\"spock\":\n",
    "        print(\"Player chose: \" + str(human))\n",
    "        print(\"Machine chose: \" + str(machine))\n",
    "        print(\"TIE\")\n",
    "        return 0\n",
    "    if machine==\"lizard\" and human==\"lizard\":\n",
    "        print(\"Player chose: \" + str(human))\n",
    "        print(\"Machine chose: \" + str(machine))\n",
    "        print(\"TIE\")\n",
    "        return 0"
   ]
  },
  {
   "cell_type": "code",
   "execution_count": 3,
   "metadata": {},
   "outputs": [],
   "source": [
    "def input_rounds():\n",
    "    z=input(\"How many Rounds do you wish to play?\")\n",
    "    while True:\n",
    "        if z.isnumeric:\n",
    "            break\n",
    "        else:\n",
    "            z=input(\"Input Invalid: input whole number \")\n",
    "    return z"
   ]
  },
  {
   "cell_type": "code",
   "execution_count": 7,
   "metadata": {},
   "outputs": [
    {
     "name": "stdout",
     "output_type": "stream",
     "text": [
      "How many Rounds do you wish to play?3\n",
      "Choose rock, paper, scissors, lizard or spock spock\n",
      "PLAYER WON GAME\n",
      "Final Score : Computer: 0 Player: 0\n",
      "TIE\n"
     ]
    }
   ],
   "source": [
    "computer_score=0\n",
    "human_score=0\n",
    "bonus_rounds=int(input_rounds())\n",
    "rounds_to_win=round(bonus_rounds/2)+1\n",
    "\n",
    "\n",
    "\n",
    "while True:\n",
    "    x=janken_resultsv3(jankenpo_human_bonus(),jankenpo_machine_bonus())\n",
    "    if x==2:\n",
    "        human_score+=1\n",
    "        print(\"Current Score : \" + \"Computer: \" + str(computer_score) + \" Player: \" + str(human_score))\n",
    "    elif x==1:\n",
    "        computer_score+=1\n",
    "        print(\"Current Score : \" + \"Computer: \" + str(computer_score) + \" Player: \" + str(human_score))\n",
    "    elif x==0:\n",
    "        print(\"Current Score : \" + \"Computer: \" + str(computer_score) + \" Player: \" + str(human_score))\n",
    "    elif computer_score==rounds_to_win:\n",
    "        print(\"MACHINE WON GAME\")\n",
    "        print(\"Final Score : \" + \"Computer: \" + str(computer_score) + \" Player: \" + str(human_score))\n",
    "        break\n",
    "    elif human_score==rounds_to_win:\n",
    "        print(\"PLAYER WON GAME\")\n",
    "        print(\"Final Score : \" + \"Computer: \" + str(computer_score) + \" Player: \" + str(human_score))\n",
    "        break\n",
    "    else:\n",
    "        print(\"PLAYER WON GAME\")\n",
    "        print(\"Final Score : \" + \"Computer: \" + str(computer_score) + \" Player: \" + str(human_score))\n",
    "        if human_score < computer_score:\n",
    "            print(\"MACHINE WON GAME\")\n",
    "            break\n",
    "        elif human_score > computer_score:\n",
    "            print(\"PLAYER WON GAME\")\n",
    "            break\n",
    "        else:\n",
    "            print(\"TIE\")\n",
    "            break\n",
    "        break\n",
    "        \n"
   ]
  }
 ],
 "metadata": {
  "kernelspec": {
   "display_name": "Python 3",
   "language": "python",
   "name": "python3"
  },
  "language_info": {
   "codemirror_mode": {
    "name": "ipython",
    "version": 3
   },
   "file_extension": ".py",
   "mimetype": "text/x-python",
   "name": "python",
   "nbconvert_exporter": "python",
   "pygments_lexer": "ipython3",
   "version": "3.7.6"
  }
 },
 "nbformat": 4,
 "nbformat_minor": 2
}
